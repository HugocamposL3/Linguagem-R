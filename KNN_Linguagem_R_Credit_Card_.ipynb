{
  "nbformat": 4,
  "nbformat_minor": 0,
  "metadata": {
    "colab": {
      "name": "KNN Linguagem R - Credit Card .ipynb",
      "provenance": [],
      "authorship_tag": "ABX9TyNog6airEbbIDSQ7LKZ7L+9",
      "include_colab_link": true
    },
    "kernelspec": {
      "name": "ir",
      "display_name": "R"
    },
    "language_info": {
      "name": "R"
    }
  },
  "cells": [
    {
      "cell_type": "markdown",
      "metadata": {
        "id": "view-in-github",
        "colab_type": "text"
      },
      "source": [
        "<a href=\"https://colab.research.google.com/github/HugocamposL3/Linguagem-R/blob/main/KNN_Linguagem_R_Credit_Card_.ipynb\" target=\"_parent\"><img src=\"https://colab.research.google.com/assets/colab-badge.svg\" alt=\"Open In Colab\"/></a>"
      ]
    },
    {
      "cell_type": "markdown",
      "source": [
        "Passo 1: Importar o conjunto de dados"
      ],
      "metadata": {
        "id": "m3v9atC4eWt1"
      }
    },
    {
      "cell_type": "code",
      "execution_count": 1,
      "metadata": {
        "id": "3MPibdvFdLyA"
      },
      "outputs": [],
      "source": [
        "#Import the dataset\n",
        "loan <- read.csv(\"/content/german_credit.csv\")"
      ]
    },
    {
      "cell_type": "markdown",
      "source": [
        "Depois de importar o conjunto de dados, vamos dar uma olhada na estrutura do conjunto de dados:"
      ],
      "metadata": {
        "id": "EKiEp6R7evAs"
      }
    },
    {
      "cell_type": "code",
      "source": [
        "str(loan)"
      ],
      "metadata": {
        "colab": {
          "base_uri": "https://localhost:8080/"
        },
        "id": "Tq0rq_qvevz1",
        "outputId": "b1d9fd30-b4ef-4dbb-8e25-6c613a1b96bb"
      },
      "execution_count": 2,
      "outputs": [
        {
          "output_type": "stream",
          "name": "stdout",
          "text": [
            "'data.frame':\t1000 obs. of  21 variables:\n",
            " $ Creditability                    : int  1 1 1 1 1 1 1 1 1 1 ...\n",
            " $ Account.Balance                  : int  1 1 2 1 1 1 1 1 4 2 ...\n",
            " $ Duration.of.Credit..month.       : int  18 9 12 12 12 10 8 6 18 24 ...\n",
            " $ Payment.Status.of.Previous.Credit: int  4 4 2 4 4 4 4 4 4 2 ...\n",
            " $ Purpose                          : int  2 0 9 0 0 0 0 0 3 3 ...\n",
            " $ Credit.Amount                    : int  1049 2799 841 2122 2171 2241 3398 1361 1098 3758 ...\n",
            " $ Value.Savings.Stocks             : int  1 1 2 1 1 1 1 1 1 3 ...\n",
            " $ Length.of.current.employment     : int  2 3 4 3 3 2 4 2 1 1 ...\n",
            " $ Instalment.per.cent              : int  4 2 2 3 4 1 1 2 4 1 ...\n",
            " $ Sex...Marital.Status             : int  2 3 2 3 3 3 3 3 2 2 ...\n",
            " $ Guarantors                       : int  1 1 1 1 1 1 1 1 1 1 ...\n",
            " $ Duration.in.Current.address      : int  4 2 4 2 4 3 4 4 4 4 ...\n",
            " $ Most.valuable.available.asset    : int  2 1 1 1 2 1 1 1 3 4 ...\n",
            " $ Age..years.                      : int  21 36 23 39 38 48 39 40 65 23 ...\n",
            " $ Concurrent.Credits               : int  3 3 3 3 1 3 3 3 3 3 ...\n",
            " $ Type.of.apartment                : int  1 1 1 1 2 1 2 2 2 1 ...\n",
            " $ No.of.Credits.at.this.Bank       : int  1 2 1 2 2 2 2 1 2 1 ...\n",
            " $ Occupation                       : int  3 3 2 2 2 2 2 2 1 1 ...\n",
            " $ No.of.dependents                 : int  1 2 1 2 1 2 1 2 1 1 ...\n",
            " $ Telephone                        : int  1 1 1 1 1 1 1 1 1 1 ...\n",
            " $ Foreign.Worker                   : int  1 1 1 2 2 2 2 2 1 1 ...\n"
          ]
        }
      ]
    },
    {
      "cell_type": "markdown",
      "source": [
        "Note que, a variável 'Creditability' é nossa variável de saída ou a variável alvo. O valor da variável de credibilidade representa se o empréstimo de um requerente é aprovado ou rejeitado."
      ],
      "metadata": {
        "id": "2gA0H0-Pe8HB"
      }
    },
    {
      "cell_type": "markdown",
      "source": [
        "Passo 2: Limpeza de dados\n",
        "- Algumas dessas variáveis não são essenciais na previsão do empréstimo de um candidato, por exemplo, variáveis como Telefone, Simultânea. Créditos, Duration.in.Current.address, Type.of.apartment, etc. Tais variáveis devem ser removidas porque só aumentarão a complexidade do modelo de Machine Learning."
      ],
      "metadata": {
        "id": "KXomjGcgfCI6"
      }
    },
    {
      "cell_type": "code",
      "source": [
        "loan.subset <- loan[c('Creditability','Age..years.','Sex...Marital.Status','Occupation','Account.Balance','Credit.Amount','Length.of.current.employment','Purpose')]\n",
        "str(loan.subset)"
      ],
      "metadata": {
        "colab": {
          "base_uri": "https://localhost:8080/"
        },
        "id": "7Mug9LIYfC_l",
        "outputId": "56b7527b-9272-40c9-9d6f-75c7e7701b04"
      },
      "execution_count": 4,
      "outputs": [
        {
          "output_type": "stream",
          "name": "stdout",
          "text": [
            "'data.frame':\t1000 obs. of  8 variables:\n",
            " $ Creditability               : int  1 1 1 1 1 1 1 1 1 1 ...\n",
            " $ Age..years.                 : int  21 36 23 39 38 48 39 40 65 23 ...\n",
            " $ Sex...Marital.Status        : int  2 3 2 3 3 3 3 3 2 2 ...\n",
            " $ Occupation                  : int  3 3 2 2 2 2 2 2 1 1 ...\n",
            " $ Account.Balance             : int  1 1 2 1 1 1 1 1 4 2 ...\n",
            " $ Credit.Amount               : int  1049 2799 841 2122 2171 2241 3398 1361 1098 3758 ...\n",
            " $ Length.of.current.employment: int  2 3 4 3 3 2 4 2 1 1 ...\n",
            " $ Purpose                     : int  2 0 9 0 0 0 0 0 3 3 ...\n"
          ]
        }
      ]
    },
    {
      "cell_type": "markdown",
      "source": [
        "Agora reduzimos 21 variáveis para 8 variáveis preditoras que são significativas para a construção do modelo."
      ],
      "metadata": {
        "id": "UEhKf5FOfgsr"
      }
    },
    {
      "cell_type": "markdown",
      "source": [
        "Passo 3: Normalização de dados \n",
        "- Você deve sempre normalizar o conjunto de dados para que a saída permaneça imparcial. Para explicar isso, vamos dar uma olhada nas primeiras observações em nosso conjunto de dados."
      ],
      "metadata": {
        "id": "Idv7HF1-f9L-"
      }
    },
    {
      "cell_type": "code",
      "source": [
        "head(loan.subset)"
      ],
      "metadata": {
        "colab": {
          "base_uri": "https://localhost:8080/",
          "height": 281
        },
        "id": "_32g06Alfixk",
        "outputId": "d57ad7af-de63-40f8-c914-f35c6591359e"
      },
      "execution_count": 5,
      "outputs": [
        {
          "output_type": "display_data",
          "data": {
            "text/plain": [
              "  Creditability Age..years. Sex...Marital.Status Occupation Account.Balance\n",
              "1 1             21          2                    3          1              \n",
              "2 1             36          3                    3          1              \n",
              "3 1             23          2                    2          2              \n",
              "4 1             39          3                    2          1              \n",
              "5 1             38          3                    2          1              \n",
              "6 1             48          3                    2          1              \n",
              "  Credit.Amount Length.of.current.employment Purpose\n",
              "1 1049          2                            2      \n",
              "2 2799          3                            0      \n",
              "3  841          4                            9      \n",
              "4 2122          3                            0      \n",
              "5 2171          3                            0      \n",
              "6 2241          2                            0      "
            ],
            "text/latex": "A data.frame: 6 × 8\n\\begin{tabular}{r|llllllll}\n  & Creditability & Age..years. & Sex...Marital.Status & Occupation & Account.Balance & Credit.Amount & Length.of.current.employment & Purpose\\\\\n  & <int> & <int> & <int> & <int> & <int> & <int> & <int> & <int>\\\\\n\\hline\n\t1 & 1 & 21 & 2 & 3 & 1 & 1049 & 2 & 2\\\\\n\t2 & 1 & 36 & 3 & 3 & 1 & 2799 & 3 & 0\\\\\n\t3 & 1 & 23 & 2 & 2 & 2 &  841 & 4 & 9\\\\\n\t4 & 1 & 39 & 3 & 2 & 1 & 2122 & 3 & 0\\\\\n\t5 & 1 & 38 & 3 & 2 & 1 & 2171 & 3 & 0\\\\\n\t6 & 1 & 48 & 3 & 2 & 1 & 2241 & 2 & 0\\\\\n\\end{tabular}\n",
            "text/markdown": "\nA data.frame: 6 × 8\n\n| <!--/--> | Creditability &lt;int&gt; | Age..years. &lt;int&gt; | Sex...Marital.Status &lt;int&gt; | Occupation &lt;int&gt; | Account.Balance &lt;int&gt; | Credit.Amount &lt;int&gt; | Length.of.current.employment &lt;int&gt; | Purpose &lt;int&gt; |\n|---|---|---|---|---|---|---|---|---|\n| 1 | 1 | 21 | 2 | 3 | 1 | 1049 | 2 | 2 |\n| 2 | 1 | 36 | 3 | 3 | 1 | 2799 | 3 | 0 |\n| 3 | 1 | 23 | 2 | 2 | 2 |  841 | 4 | 9 |\n| 4 | 1 | 39 | 3 | 2 | 1 | 2122 | 3 | 0 |\n| 5 | 1 | 38 | 3 | 2 | 1 | 2171 | 3 | 0 |\n| 6 | 1 | 48 | 3 | 2 | 1 | 2241 | 2 | 0 |\n\n",
            "text/html": [
              "<table class=\"dataframe\">\n",
              "<caption>A data.frame: 6 × 8</caption>\n",
              "<thead>\n",
              "\t<tr><th></th><th scope=col>Creditability</th><th scope=col>Age..years.</th><th scope=col>Sex...Marital.Status</th><th scope=col>Occupation</th><th scope=col>Account.Balance</th><th scope=col>Credit.Amount</th><th scope=col>Length.of.current.employment</th><th scope=col>Purpose</th></tr>\n",
              "\t<tr><th></th><th scope=col>&lt;int&gt;</th><th scope=col>&lt;int&gt;</th><th scope=col>&lt;int&gt;</th><th scope=col>&lt;int&gt;</th><th scope=col>&lt;int&gt;</th><th scope=col>&lt;int&gt;</th><th scope=col>&lt;int&gt;</th><th scope=col>&lt;int&gt;</th></tr>\n",
              "</thead>\n",
              "<tbody>\n",
              "\t<tr><th scope=row>1</th><td>1</td><td>21</td><td>2</td><td>3</td><td>1</td><td>1049</td><td>2</td><td>2</td></tr>\n",
              "\t<tr><th scope=row>2</th><td>1</td><td>36</td><td>3</td><td>3</td><td>1</td><td>2799</td><td>3</td><td>0</td></tr>\n",
              "\t<tr><th scope=row>3</th><td>1</td><td>23</td><td>2</td><td>2</td><td>2</td><td> 841</td><td>4</td><td>9</td></tr>\n",
              "\t<tr><th scope=row>4</th><td>1</td><td>39</td><td>3</td><td>2</td><td>1</td><td>2122</td><td>3</td><td>0</td></tr>\n",
              "\t<tr><th scope=row>5</th><td>1</td><td>38</td><td>3</td><td>2</td><td>1</td><td>2171</td><td>3</td><td>0</td></tr>\n",
              "\t<tr><th scope=row>6</th><td>1</td><td>48</td><td>3</td><td>2</td><td>1</td><td>2241</td><td>2</td><td>0</td></tr>\n",
              "</tbody>\n",
              "</table>\n"
            ]
          },
          "metadata": {}
        }
      ]
    },
    {
      "cell_type": "markdown",
      "source": [
        "Observe a variável valor de crédito, sua escala de valor está em 1000s, enquanto as demais variáveis estão em dígitos únicos ou 2 dígitos. Se os dados não forem normalizados, levará a um resultado baised."
      ],
      "metadata": {
        "id": "Mk4Whw4ng7PZ"
      }
    },
    {
      "cell_type": "code",
      "source": [
        "#Normalization\n",
        "normalize <- function(x) {\n",
        "return ((x - min(x)) / (max(x) - min(x))) }"
      ],
      "metadata": {
        "id": "DaUbgUaGhBLT"
      },
      "execution_count": 6,
      "outputs": []
    },
    {
      "cell_type": "markdown",
      "source": [
        "No trecho de código abaixo, estamos armazenando os dados normalizados definidos na variável 'loan.subset.n' e também estamos removendo a variável 'Credibilidade', pois é a variável de resposta que precisa ser prevista."
      ],
      "metadata": {
        "id": "rt_7XhzghHjn"
      }
    },
    {
      "cell_type": "code",
      "source": [
        "loan.subset.n <- as.data.frame(lapply(loan.subset[,2:8], normalize))"
      ],
      "metadata": {
        "id": "6mXxpm6ehI3u"
      },
      "execution_count": 7,
      "outputs": []
    },
    {
      "cell_type": "markdown",
      "source": [
        "Este é o conjunto de dados normalizado:"
      ],
      "metadata": {
        "id": "mLVTGfZihjM1"
      }
    },
    {
      "cell_type": "code",
      "source": [
        "head(loan.subset.n)"
      ],
      "metadata": {
        "colab": {
          "base_uri": "https://localhost:8080/",
          "height": 281
        },
        "id": "t7J_N6yvhjua",
        "outputId": "8badeab5-6ccb-42c4-8a2b-08ce77db570d"
      },
      "execution_count": 8,
      "outputs": [
        {
          "output_type": "display_data",
          "data": {
            "text/plain": [
              "  Age..years. Sex...Marital.Status Occupation Account.Balance Credit.Amount\n",
              "1 0.03571429  0.3333333            0.6666667  0.0000000       0.04396390   \n",
              "2 0.30357143  0.6666667            0.6666667  0.0000000       0.14025531   \n",
              "3 0.07142857  0.3333333            0.3333333  0.3333333       0.03251898   \n",
              "4 0.35714286  0.6666667            0.3333333  0.0000000       0.10300429   \n",
              "5 0.33928571  0.6666667            0.3333333  0.0000000       0.10570045   \n",
              "6 0.51785714  0.6666667            0.3333333  0.0000000       0.10955211   \n",
              "  Length.of.current.employment Purpose\n",
              "1 0.25                         0.2    \n",
              "2 0.50                         0.0    \n",
              "3 0.75                         0.9    \n",
              "4 0.50                         0.0    \n",
              "5 0.50                         0.0    \n",
              "6 0.25                         0.0    "
            ],
            "text/latex": "A data.frame: 6 × 7\n\\begin{tabular}{r|lllllll}\n  & Age..years. & Sex...Marital.Status & Occupation & Account.Balance & Credit.Amount & Length.of.current.employment & Purpose\\\\\n  & <dbl> & <dbl> & <dbl> & <dbl> & <dbl> & <dbl> & <dbl>\\\\\n\\hline\n\t1 & 0.03571429 & 0.3333333 & 0.6666667 & 0.0000000 & 0.04396390 & 0.25 & 0.2\\\\\n\t2 & 0.30357143 & 0.6666667 & 0.6666667 & 0.0000000 & 0.14025531 & 0.50 & 0.0\\\\\n\t3 & 0.07142857 & 0.3333333 & 0.3333333 & 0.3333333 & 0.03251898 & 0.75 & 0.9\\\\\n\t4 & 0.35714286 & 0.6666667 & 0.3333333 & 0.0000000 & 0.10300429 & 0.50 & 0.0\\\\\n\t5 & 0.33928571 & 0.6666667 & 0.3333333 & 0.0000000 & 0.10570045 & 0.50 & 0.0\\\\\n\t6 & 0.51785714 & 0.6666667 & 0.3333333 & 0.0000000 & 0.10955211 & 0.25 & 0.0\\\\\n\\end{tabular}\n",
            "text/markdown": "\nA data.frame: 6 × 7\n\n| <!--/--> | Age..years. &lt;dbl&gt; | Sex...Marital.Status &lt;dbl&gt; | Occupation &lt;dbl&gt; | Account.Balance &lt;dbl&gt; | Credit.Amount &lt;dbl&gt; | Length.of.current.employment &lt;dbl&gt; | Purpose &lt;dbl&gt; |\n|---|---|---|---|---|---|---|---|\n| 1 | 0.03571429 | 0.3333333 | 0.6666667 | 0.0000000 | 0.04396390 | 0.25 | 0.2 |\n| 2 | 0.30357143 | 0.6666667 | 0.6666667 | 0.0000000 | 0.14025531 | 0.50 | 0.0 |\n| 3 | 0.07142857 | 0.3333333 | 0.3333333 | 0.3333333 | 0.03251898 | 0.75 | 0.9 |\n| 4 | 0.35714286 | 0.6666667 | 0.3333333 | 0.0000000 | 0.10300429 | 0.50 | 0.0 |\n| 5 | 0.33928571 | 0.6666667 | 0.3333333 | 0.0000000 | 0.10570045 | 0.50 | 0.0 |\n| 6 | 0.51785714 | 0.6666667 | 0.3333333 | 0.0000000 | 0.10955211 | 0.25 | 0.0 |\n\n",
            "text/html": [
              "<table class=\"dataframe\">\n",
              "<caption>A data.frame: 6 × 7</caption>\n",
              "<thead>\n",
              "\t<tr><th></th><th scope=col>Age..years.</th><th scope=col>Sex...Marital.Status</th><th scope=col>Occupation</th><th scope=col>Account.Balance</th><th scope=col>Credit.Amount</th><th scope=col>Length.of.current.employment</th><th scope=col>Purpose</th></tr>\n",
              "\t<tr><th></th><th scope=col>&lt;dbl&gt;</th><th scope=col>&lt;dbl&gt;</th><th scope=col>&lt;dbl&gt;</th><th scope=col>&lt;dbl&gt;</th><th scope=col>&lt;dbl&gt;</th><th scope=col>&lt;dbl&gt;</th><th scope=col>&lt;dbl&gt;</th></tr>\n",
              "</thead>\n",
              "<tbody>\n",
              "\t<tr><th scope=row>1</th><td>0.03571429</td><td>0.3333333</td><td>0.6666667</td><td>0.0000000</td><td>0.04396390</td><td>0.25</td><td>0.2</td></tr>\n",
              "\t<tr><th scope=row>2</th><td>0.30357143</td><td>0.6666667</td><td>0.6666667</td><td>0.0000000</td><td>0.14025531</td><td>0.50</td><td>0.0</td></tr>\n",
              "\t<tr><th scope=row>3</th><td>0.07142857</td><td>0.3333333</td><td>0.3333333</td><td>0.3333333</td><td>0.03251898</td><td>0.75</td><td>0.9</td></tr>\n",
              "\t<tr><th scope=row>4</th><td>0.35714286</td><td>0.6666667</td><td>0.3333333</td><td>0.0000000</td><td>0.10300429</td><td>0.50</td><td>0.0</td></tr>\n",
              "\t<tr><th scope=row>5</th><td>0.33928571</td><td>0.6666667</td><td>0.3333333</td><td>0.0000000</td><td>0.10570045</td><td>0.50</td><td>0.0</td></tr>\n",
              "\t<tr><th scope=row>6</th><td>0.51785714</td><td>0.6666667</td><td>0.3333333</td><td>0.0000000</td><td>0.10955211</td><td>0.25</td><td>0.0</td></tr>\n",
              "</tbody>\n",
              "</table>\n"
            ]
          },
          "metadata": {}
        }
      ]
    },
    {
      "cell_type": "markdown",
      "source": [
        "Passo 4: Splicing de dados\n",
        "- Depois de limpar o conjunto de dados e formatá-lo, o próximo passo é a emenda de dados. A emenda de dados envolve basicamente a divisão do conjunto de dados em conjunto de dados de treinamento e teste. Isso é feito no seguinte trecho de código:"
      ],
      "metadata": {
        "id": "15wF7ClPkfyW"
      }
    },
    {
      "cell_type": "code",
      "source": [
        "set.seed(123)\n",
        "dat.d <- sample(1:nrow(loan.subset.n),size=nrow(loan.subset.n)*0.7,replace = FALSE) #random selection of 70% data.\n",
        " \n",
        "train.loan <- loan.subset[dat.d,] # 70% training data\n",
        "test.loan <- loan.subset[-dat.d,] # remaining 30% test data\n"
      ],
      "metadata": {
        "id": "_71hGl7Lkuow"
      },
      "execution_count": 9,
      "outputs": []
    },
    {
      "cell_type": "markdown",
      "source": [
        "Depois de derivar o conjunto de dados de treinamento e teste, o trecho de código abaixo criará um quadro de dados separado para a variável 'Creditability' para que nosso resultado final possa ser comparado com o valor real."
      ],
      "metadata": {
        "id": "ncUHy2tbk11b"
      }
    },
    {
      "cell_type": "code",
      "source": [
        "#Creating seperate dataframe for 'Creditability' feature which is our target.\n",
        "train.loan_labels <- loan.subset[dat.d,1]\n",
        "test.loan_labels <-loan.subset[-dat.d,1]\n"
      ],
      "metadata": {
        "id": "5DyC4CCCk2xk"
      },
      "execution_count": 10,
      "outputs": []
    },
    {
      "cell_type": "markdown",
      "source": [
        "Passo 5: Construindo um modelo de machine learning\n",
        "- Nesta fase, temos que construir um modelo usando o conjunto de dados de treinamento. Como estamos usando o algoritmo KNN para construir o modelo, devemos primeiro instalar o pacote 'classe' fornecido por R. Este pacote tem a função KNN nele:"
      ],
      "metadata": {
        "id": "PpM7fPTVniov"
      }
    },
    {
      "cell_type": "code",
      "source": [
        "#Install class package\n",
        "install.packages('class')\n",
        "# Load class package\n",
        "library(class)"
      ],
      "metadata": {
        "colab": {
          "base_uri": "https://localhost:8080/"
        },
        "id": "WO7OQSqSnnkS",
        "outputId": "0138e10b-a4e5-449e-bff3-be0ad0517271"
      },
      "execution_count": 11,
      "outputs": [
        {
          "output_type": "stream",
          "name": "stderr",
          "text": [
            "Installing package into ‘/usr/local/lib/R/site-library’\n",
            "(as ‘lib’ is unspecified)\n",
            "\n"
          ]
        }
      ]
    },
    {
      "cell_type": "markdown",
      "source": [
        "Em seguida, vamos calcular o número de observações no conjunto de dados de treinamento. A razão pela qual estamos fazendo isso é que queremos inicializar o valor de 'K' no modelo KNN. Uma das maneiras de encontrar o valor K ideal é calcular a raiz quadrada do número total de observações no conjunto de dados. Esta raiz quadrada lhe dará o valor 'K'."
      ],
      "metadata": {
        "id": "3id2SPuknvdh"
      }
    },
    {
      "cell_type": "code",
      "source": [
        "#Find the number of observation\n",
        "NROW(train.loan_labels) "
      ],
      "metadata": {
        "colab": {
          "base_uri": "https://localhost:8080/",
          "height": 35
        },
        "id": "-niSmb6VoMKq",
        "outputId": "0637f299-9d2d-41bc-b2b1-a591be423f47"
      },
      "execution_count": 14,
      "outputs": [
        {
          "output_type": "display_data",
          "data": {
            "text/plain": [
              "[1] 700"
            ],
            "text/latex": "700",
            "text/markdown": "700",
            "text/html": [
              "700"
            ]
          },
          "metadata": {}
        }
      ]
    },
    {
      "cell_type": "markdown",
      "source": [
        "Então, temos 700 observações em nosso conjunto de dados de treinamento. A raiz quadrada de 700 é em torno de 26.45, por isso vamos criar dois modelos. Um com valor 'K' como 26 e o outro modelo com um valor 'K' como 27."
      ],
      "metadata": {
        "id": "kkeOxDEvo2PX"
      }
    },
    {
      "cell_type": "code",
      "source": [
        "knn.26 <- knn(train=train.loan, test=test.loan, cl=train.loan_labels, k=26)\n",
        "knn.27 <- knn(train=train.loan, test=test.loan, cl=train.loan_labels, k=27)"
      ],
      "metadata": {
        "id": "dbFRhUIdo31S"
      },
      "execution_count": 15,
      "outputs": []
    },
    {
      "cell_type": "markdown",
      "source": [
        "Passo 6: Avaliação do Modelo\n",
        "- Após a construção do modelo, é hora de calcular a precisão dos modelos criados:\n",
        "\n"
      ],
      "metadata": {
        "id": "QK1iY32vpfM4"
      }
    },
    {
      "cell_type": "code",
      "source": [
        "#Calculate the proportion of correct classification for k = 26, 27 - Accuracy \n",
        "ACC.26 <- 100 * sum(test.loan_labels == knn.26)/NROW(test.loan_labels)\n",
        "ACC.27 <- 100 * sum(test.loan_labels == knn.27)/NROW(test.loan_labels)\n",
        "ACC.26\n",
        "ACC.27"
      ],
      "metadata": {
        "colab": {
          "base_uri": "https://localhost:8080/",
          "height": 52
        },
        "id": "YUquK-SurGud",
        "outputId": "e71a3acc-a6db-473c-f93e-4c9a24f46c16"
      },
      "execution_count": 24,
      "outputs": [
        {
          "output_type": "display_data",
          "data": {
            "text/plain": [
              "[1] 71.66667"
            ],
            "text/latex": "71.6666666666667",
            "text/markdown": "71.6666666666667",
            "text/html": [
              "71.6666666666667"
            ]
          },
          "metadata": {}
        },
        {
          "output_type": "display_data",
          "data": {
            "text/plain": [
              "[1] 71.33333"
            ],
            "text/latex": "71.3333333333333",
            "text/markdown": "71.3333333333333",
            "text/html": [
              "71.3333333333333"
            ]
          },
          "metadata": {}
        }
      ]
    },
    {
      "cell_type": "markdown",
      "source": [
        "Como mostrado acima, a precisão para K = 26 é de 71,66 e para K = 27 é de 71,33. Também podemos verificar o resultado previsto em relação ao valor real na forma tabular:"
      ],
      "metadata": {
        "id": "wRAB7uRQrSPU"
      }
    },
    {
      "cell_type": "code",
      "source": [
        "# Check prediction against actual value in tabular form for k=26\n",
        "table(knn.26 ,test.loan_labels)"
      ],
      "metadata": {
        "colab": {
          "base_uri": "https://localhost:8080/",
          "height": 87
        },
        "id": "_cv60a2CrX46",
        "outputId": "c4282d47-acdb-4702-d9ce-1ece5bf63ee5"
      },
      "execution_count": 19,
      "outputs": [
        {
          "output_type": "display_data",
          "data": {
            "text/plain": [
              "      test.loan_labels\n",
              "knn.26   0   1\n",
              "     0   8   2\n",
              "     1  83 207"
            ]
          },
          "metadata": {}
        }
      ]
    },
    {
      "cell_type": "code",
      "source": [
        "# Check prediction against actual value in tabular form for k=27\n",
        "table(knn.27 ,test.loan_labels)"
      ],
      "metadata": {
        "colab": {
          "base_uri": "https://localhost:8080/",
          "height": 87
        },
        "id": "sRrzCSYnrdJ8",
        "outputId": "1744f9b5-ac53-48e3-840f-339b3d0d6b64"
      },
      "execution_count": 20,
      "outputs": [
        {
          "output_type": "display_data",
          "data": {
            "text/plain": [
              "      test.loan_labels\n",
              "knn.27   0   1\n",
              "     0   7   2\n",
              "     1  84 207"
            ]
          },
          "metadata": {}
        }
      ]
    },
    {
      "cell_type": "markdown",
      "source": [
        "Você também pode usar a matriz de confusão para calcular a precisão. Para fazer isso, devemos primeiro instalar o infame pacote Caret:"
      ],
      "metadata": {
        "id": "0ECZzt8krgCc"
      }
    },
    {
      "cell_type": "code",
      "source": [
        "install.packages('caret')\n",
        "library(caret)"
      ],
      "metadata": {
        "colab": {
          "base_uri": "https://localhost:8080/"
        },
        "id": "wIQk6WuGrg_Z",
        "outputId": "485b1bb8-cd76-4428-f7f4-8d70a6e4800b"
      },
      "execution_count": 21,
      "outputs": [
        {
          "output_type": "stream",
          "name": "stderr",
          "text": [
            "Installing package into ‘/usr/local/lib/R/site-library’\n",
            "(as ‘lib’ is unspecified)\n",
            "\n",
            "also installing the dependencies ‘listenv’, ‘parallelly’, ‘future’, ‘globals’, ‘future.apply’, ‘progressr’, ‘numDeriv’, ‘SQUAREM’, ‘lava’, ‘prodlim’, ‘proxy’, ‘iterators’, ‘gower’, ‘ipred’, ‘timeDate’, ‘e1071’, ‘foreach’, ‘ModelMetrics’, ‘plyr’, ‘pROC’, ‘recipes’, ‘reshape2’\n",
            "\n",
            "\n",
            "Loading required package: ggplot2\n",
            "\n",
            "Loading required package: lattice\n",
            "\n",
            "Warning message in system(\"timedatectl\", intern = TRUE):\n",
            "“running command 'timedatectl' had status 1”\n"
          ]
        }
      ]
    },
    {
      "cell_type": "code",
      "source": [
        "confusionMatrix(table(knn.26 ,test.loan_labels))\n"
      ],
      "metadata": {
        "colab": {
          "base_uri": "https://localhost:8080/",
          "height": 485
        },
        "id": "XYuhvGbws1aE",
        "outputId": "ef722dc6-1a8f-48e7-9929-1bd0665c5a69"
      },
      "execution_count": 23,
      "outputs": [
        {
          "output_type": "display_data",
          "data": {
            "text/plain": [
              "Confusion Matrix and Statistics\n",
              "\n",
              "      test.loan_labels\n",
              "knn.26   0   1\n",
              "     0   8   2\n",
              "     1  83 207\n",
              "                                        \n",
              "               Accuracy : 0.7167        \n",
              "                 95% CI : (0.662, 0.767)\n",
              "    No Information Rate : 0.6967        \n",
              "    P-Value [Acc > NIR] : 0.2462        \n",
              "                                        \n",
              "                  Kappa : 0.1046        \n",
              "                                        \n",
              " Mcnemar's Test P-Value : <2e-16        \n",
              "                                        \n",
              "            Sensitivity : 0.08791       \n",
              "            Specificity : 0.99043       \n",
              "         Pos Pred Value : 0.80000       \n",
              "         Neg Pred Value : 0.71379       \n",
              "             Prevalence : 0.30333       \n",
              "         Detection Rate : 0.02667       \n",
              "   Detection Prevalence : 0.03333       \n",
              "      Balanced Accuracy : 0.53917       \n",
              "                                        \n",
              "       'Positive' Class : 0             \n",
              "                                        "
            ]
          },
          "metadata": {}
        }
      ]
    },
    {
      "cell_type": "markdown",
      "source": [
        "Assim, a partir da saída, podemos ver que nosso modelo prevê o resultado com uma precisão de 71,67% o que é bom já que trabalhamos com um pequeno conjunto de dados. Um ponto a ser lembrado é que quanto mais dados (dados ideais) você alimentar a máquina, mais eficiente será o modelo."
      ],
      "metadata": {
        "id": "so3C777Jw0Cn"
      }
    },
    {
      "cell_type": "markdown",
      "source": [
        "Passo 7: Otimização\n",
        "\n",
        "- Para melhorar a precisão do modelo, você pode usar n número de técnicas como o método Elbow e gráfico de precisão percentual máxima. No trecho de código abaixo, criei um loop que calcula a precisão do modelo KNN para valores 'K' variando de 1 a 28. Desta forma, você pode verificar qual valor 'K' resultará no modelo mais preciso:"
      ],
      "metadata": {
        "id": "TTpLIyEqxF1P"
      }
    },
    {
      "cell_type": "code",
      "source": [
        "i=1\n",
        "k.optm=1\n",
        "for (i in 1:28){\n",
        "   knn.mod <- knn(train=train.loan, test=test.loan, cl=train.loan_labels, k=i)\n",
        "   k.optm[i] <- 100 * sum(test.loan_labels == knn.mod)/NROW(test.loan_labels)\n",
        "   k=i \n",
        "   cat(k,'=',k.optm[i],'\\n') \n",
        "}"
      ],
      "metadata": {
        "colab": {
          "base_uri": "https://localhost:8080/"
        },
        "id": "7jT_Xr7IxI3M",
        "outputId": "ce017625-b239-4680-c2f8-955d4ff1bb8b"
      },
      "execution_count": 35,
      "outputs": [
        {
          "output_type": "stream",
          "name": "stdout",
          "text": [
            "1 = 58.33333 \n",
            "2 = 55.66667 \n",
            "3 = 61 \n",
            "4 = 60 \n",
            "5 = 64.66667 \n",
            "6 = 66.66667 \n",
            "7 = 66.66667 \n",
            "8 = 66.33333 \n",
            "9 = 66 \n",
            "10 = 68.33333 \n",
            "11 = 67.33333 \n",
            "12 = 66.66667 \n",
            "13 = 68 \n",
            "14 = 67.66667 \n",
            "15 = 68.33333 \n",
            "16 = 70 \n",
            "17 = 70 \n",
            "18 = 70.33333 \n",
            "19 = 70.33333 \n",
            "20 = 70.66667 \n",
            "21 = 70.66667 \n",
            "22 = 71.33333 \n",
            "23 = 71.33333 \n",
            "24 = 71.66667 \n",
            "25 = 71.33333 \n",
            "26 = 71.66667 \n",
            "27 = 71.33333 \n",
            "28 = 71 \n"
          ]
        }
      ]
    },
    {
      "cell_type": "markdown",
      "source": [
        "A partir da saída você pode ver que para K = 25, alcançamos a máxima precisão, ou seja, 68%. Também podemos representar isso graficamente, assim:"
      ],
      "metadata": {
        "id": "t3mQamJdysnT"
      }
    },
    {
      "cell_type": "code",
      "source": [
        "#Accuracy plot\n",
        "plot(k.optm, type=\"b\", xlab=\"K- Value\",ylab=\"Accuracy level\")"
      ],
      "metadata": {
        "colab": {
          "base_uri": "https://localhost:8080/",
          "height": 437
        },
        "id": "ivQ5HAL4ytbj",
        "outputId": "b905bd33-c025-49ac-8124-62926dbe2530"
      },
      "execution_count": 36,
      "outputs": [
        {
          "output_type": "display_data",
          "data": {
            "image/png": "[encoded data removed]",
            "text/plain": [
              "plot without title"
            ]
          },
          "metadata": {
            "image/png": {
              "width": 420,
              "height": 420
            }
          }
        }
      ]
    }
  ]
}